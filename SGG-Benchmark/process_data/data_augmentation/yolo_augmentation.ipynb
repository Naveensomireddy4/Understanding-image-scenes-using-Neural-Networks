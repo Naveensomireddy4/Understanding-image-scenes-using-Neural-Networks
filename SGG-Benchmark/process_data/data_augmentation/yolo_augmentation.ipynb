{
 "cells": [
  {
   "cell_type": "code",
   "execution_count": 1,
   "metadata": {},
   "outputs": [
    {
     "name": "stderr",
     "output_type": "stream",
     "text": [
      "/home/maelic/miniconda3/envs/phd/lib/python3.11/site-packages/tqdm/auto.py:21: TqdmWarning: IProgress not found. Please update jupyter and ipywidgets. See https://ipywidgets.readthedocs.io/en/stable/user_install.html\n",
      "  from .autonotebook import tqdm as notebook_tqdm\n"
     ]
    }
   ],
   "source": [
    "dataset_path = \"/home/maelic/Documents/PhD/MyModel/PhD_Commonsense_Enrichment/VG_refinement/data_tools/IndoorVG_4/YOLO_anno\"\n",
    "yaml_path = \"/home/maelic/Documents/PhD/MyModel/PhD_Commonsense_Enrichment/VG_refinement/data_tools/IndoorVG_4/YOLO_anno/train.yaml\"\n",
    "\n",
    "model_path = \"/home/maelic/Documents/PhD/MyModel/Scene-Graph-Benchmark-Cuda11.7/process_data/yolov8l_indoorvg4.pt\"\n",
    "\n",
    "import os\n",
    "from ultralytics import YOLO\n",
    "\n",
    "# load model\n",
    "model = YOLO(model_path)\n",
    "\n",
    "from ultralytics.cfg import get_cfg\n",
    "\n",
    "cfg = get_cfg()\n",
    "\n",
    "# load train data\n",
    "# load yaml\n",
    "from ultralytics.utils import yaml_load\n",
    "from ultralytics.data import build_dataloader, build_yolo_dataset\n",
    "\n",
    "data = yaml_load(yaml_path)\n",
    "\n",
    "# load dataset\n",
    "splits = [data['train'], data['val'], data['test']]\n",
    "\n",
    "split = splits[0]\n",
    "img_dir = os.path.join(split, 'images')\n",
    "dataset = build_yolo_dataset(cfg, img_dir, 1, data)"
   ]
  },
  {
   "cell_type": "code",
   "execution_count": 2,
   "metadata": {},
   "outputs": [
    {
     "name": "stderr",
     "output_type": "stream",
     "text": [
      "\u001b[34m\u001b[1mtrain: \u001b[0mScanning /home/maelic/Documents/PhD/MyModel/PhD_Commonsense_Enrichment/VG_refinement/data_tools/IndoorVG_4/YOLO_anno/train/labels.cache... 11739 images, 0 backgrounds, 0 corrupt: 100%|██████████| 11739/11739 [00:00<?, ?it/s]\n"
     ]
    },
    {
     "name": "stdout",
     "output_type": "stream",
     "text": [
      "\u001b[34m\u001b[1malbumentations: \u001b[0mBlur(p=0.01, blur_limit=(3, 7)), MedianBlur(p=0.01, blur_limit=(3, 7)), ToGray(p=0.01), CLAHE(p=0.01, clip_limit=(1, 4.0), tile_grid_size=(8, 8))\n",
      "<ultralytics.data.dataset.YOLODataset object at 0x7f45027cc2d0>\n"
     ]
    }
   ],
   "source": [
    "# load train data\n",
    "# load yaml\n",
    "from ultralytics.utils import yaml_load\n",
    "from ultralytics.data import build_dataloader, build_yolo_dataset\n",
    "\n",
    "data = yaml_load(yaml_path)\n",
    "\n",
    "# load dataset\n",
    "splits = [data['train'], data['val'], data['test']]\n",
    "\n",
    "split = splits[0]\n",
    "img_dir = os.path.join(split, 'images')\n",
    "dataset = build_yolo_dataset(cfg, img_dir, 1, data)\n",
    "\n",
    "print(dataset)\n"
   ]
  },
  {
   "cell_type": "markdown",
   "metadata": {},
   "source": [
    "# Utils"
   ]
  },
  {
   "cell_type": "code",
   "execution_count": 4,
   "metadata": {},
   "outputs": [],
   "source": [
    "new_dataset_path = dataset_path.strip().replace('YOLO_anno', 'YOLO_anno_2')\n",
    "# create dir\n",
    "os.makedirs(new_dataset_path, exist_ok=True)"
   ]
  },
  {
   "cell_type": "code",
   "execution_count": 6,
   "metadata": {},
   "outputs": [
    {
     "name": "stderr",
     "output_type": "stream",
     "text": [
      "100%|██████████| 11739/11739 [08:18<00:00, 23.56it/s]"
     ]
    },
    {
     "name": "stdout",
     "output_type": "stream",
     "text": [
      "Total new objects added: 41194\n"
     ]
    },
    {
     "name": "stderr",
     "output_type": "stream",
     "text": [
      "\n"
     ]
    }
   ],
   "source": [
    "from utils import bbox_iou\n",
    "from tqdm import tqdm\n",
    "\n",
    "iou_thres = 0.5\n",
    "conf_thres = 0.5\n",
    "\n",
    "dest_anno_path = new_dataset_path + '/train/labels'\n",
    "# mkdir\n",
    "if not os.path.exists(dest_anno_path):\n",
    "    os.makedirs(dest_anno_path)\n",
    "\n",
    "num_total = 0\n",
    "\n",
    "# run model on dataset\n",
    "for i, img in enumerate(tqdm(dataset)):\n",
    "    # get img name\n",
    "    img_name = img['im_file'].split('/')[-1].split('.')[0]\n",
    "    # get anno file\n",
    "    anno_file = dataset.label_files[i]\n",
    "    # read anno file\n",
    "    with open(anno_file, 'r') as f:\n",
    "        anno = f.readlines()\n",
    "    # get gt boxes\n",
    "    gt_boxes = img['bboxes'].cuda()\n",
    "\n",
    "    # forward pass\n",
    "    results = model(img['im_file'], verbose=False)\n",
    "\n",
    "    # iou on gt boxes and predictions\n",
    "    for i, box in enumerate(results[0].boxes):\n",
    "        iou = bbox_iou(box.xyxy, gt_boxes, xywh=True)\n",
    "\n",
    "        if all(iou < iou_thres):\n",
    "            # the box is a candidate for a new object\n",
    "            if box.conf > conf_thres:\n",
    "                # add to anno\n",
    "                bbox = box.xyxyn[0]\n",
    "                anno.append(f\"{int(box.cls.item())} {bbox[0]} {bbox[1]} {bbox[2]} {bbox[3]}\\n\")\n",
    "                num_total += 1\n",
    "\n",
    "    # write out to dest_anno_path\n",
    "    with open(dest_anno_path + f'/{img_name}.txt', 'w') as f:\n",
    "        f.writelines(anno)\n",
    "\n",
    "print(f\"Total new objects added: {num_total}\")"
   ]
  },
  {
   "cell_type": "code",
   "execution_count": null,
   "metadata": {},
   "outputs": [],
   "source": [
    "# display overall number of objects\n",
    "num_objects = 0\n",
    "for anno_file in os.listdir(dest_anno_path):\n",
    "    with open(dest_anno_path + f'/{anno_file}', 'r') as f:\n",
    "        anno = f.readlines()\n",
    "        num_objects += len(anno)\n",
    "\n",
    "print(f\"Total number of objects: {num_objects}\")"
   ]
  }
 ],
 "metadata": {
  "kernelspec": {
   "display_name": "phd",
   "language": "python",
   "name": "python3"
  },
  "language_info": {
   "codemirror_mode": {
    "name": "ipython",
    "version": 3
   },
   "file_extension": ".py",
   "mimetype": "text/x-python",
   "name": "python",
   "nbconvert_exporter": "python",
   "pygments_lexer": "ipython3",
   "version": "3.11.5"
  }
 },
 "nbformat": 4,
 "nbformat_minor": 2
}
